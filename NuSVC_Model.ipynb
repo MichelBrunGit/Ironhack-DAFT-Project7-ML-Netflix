{
 "cells": [
  {
   "cell_type": "code",
   "execution_count": 2,
   "id": "01f0ea73",
   "metadata": {},
   "outputs": [],
   "source": [
    "#Import your libraries\n",
    "import pandas as pd\n",
    "import numpy as np\n",
    "import seaborn as sns\n",
    "import matplotlib.pyplot as plt\n",
    "from sklearn.model_selection import train_test_split\n",
    "from pandas.plotting import parallel_coordinates\n",
    "from sklearn.tree import DecisionTreeClassifier, plot_tree\n",
    "from sklearn import metrics\n",
    "from sklearn.naive_bayes import GaussianNB\n",
    "from sklearn.discriminant_analysis import LinearDiscriminantAnalysis, QuadraticDiscriminantAnalysis\n",
    "from sklearn.neighbors import KNeighborsClassifier\n",
    "from sklearn.svm import SVC\n",
    "from sklearn.linear_model import LogisticRegression"
   ]
  },
  {
   "cell_type": "code",
   "execution_count": 3,
   "id": "0cd983f0",
   "metadata": {},
   "outputs": [],
   "source": [
    "file_url = r'C:\\Users\\Michel\\git2\\Ironhack-DAFT-Project7-ML-Netflix\\imdb_processed_clean_encoded.csv'\n"
   ]
  },
  {
   "cell_type": "code",
   "execution_count": 4,
   "id": "be9700fe",
   "metadata": {},
   "outputs": [],
   "source": [
    "df = pd.read_csv(file_url)"
   ]
  },
  {
   "cell_type": "code",
   "execution_count": 5,
   "id": "667a1c1f",
   "metadata": {},
   "outputs": [
    {
     "data": {
      "text/html": [
       "<div>\n",
       "<style scoped>\n",
       "    .dataframe tbody tr th:only-of-type {\n",
       "        vertical-align: middle;\n",
       "    }\n",
       "\n",
       "    .dataframe tbody tr th {\n",
       "        vertical-align: top;\n",
       "    }\n",
       "\n",
       "    .dataframe thead th {\n",
       "        text-align: right;\n",
       "    }\n",
       "</style>\n",
       "<table border=\"1\" class=\"dataframe\">\n",
       "  <thead>\n",
       "    <tr style=\"text-align: right;\">\n",
       "      <th></th>\n",
       "      <th>year</th>\n",
       "      <th>kind</th>\n",
       "      <th>rating</th>\n",
       "      <th>vote</th>\n",
       "      <th>runtime</th>\n",
       "      <th>genre1</th>\n",
       "      <th>genre2</th>\n",
       "      <th>country1</th>\n",
       "      <th>country2</th>\n",
       "      <th>language1</th>\n",
       "      <th>language2</th>\n",
       "      <th>cast1</th>\n",
       "      <th>cast2</th>\n",
       "      <th>director1</th>\n",
       "      <th>director2</th>\n",
       "      <th>composer1</th>\n",
       "      <th>composer2</th>\n",
       "      <th>writer1</th>\n",
       "      <th>writer2</th>\n",
       "    </tr>\n",
       "  </thead>\n",
       "  <tbody>\n",
       "    <tr>\n",
       "      <th>0</th>\n",
       "      <td>2003.0</td>\n",
       "      <td>2</td>\n",
       "      <td>7.7</td>\n",
       "      <td>474.0</td>\n",
       "      <td>50.000000</td>\n",
       "      <td>6</td>\n",
       "      <td>2</td>\n",
       "      <td>62</td>\n",
       "      <td>71</td>\n",
       "      <td>16</td>\n",
       "      <td>110</td>\n",
       "      <td>817</td>\n",
       "      <td>4942</td>\n",
       "      <td>3924</td>\n",
       "      <td>611</td>\n",
       "      <td>2512</td>\n",
       "      <td>762</td>\n",
       "      <td>3299</td>\n",
       "      <td>2469</td>\n",
       "    </tr>\n",
       "    <tr>\n",
       "      <th>1</th>\n",
       "      <td>1994.0</td>\n",
       "      <td>7</td>\n",
       "      <td>8.1</td>\n",
       "      <td>18.0</td>\n",
       "      <td>83.000000</td>\n",
       "      <td>8</td>\n",
       "      <td>27</td>\n",
       "      <td>62</td>\n",
       "      <td>71</td>\n",
       "      <td>16</td>\n",
       "      <td>110</td>\n",
       "      <td>3599</td>\n",
       "      <td>381</td>\n",
       "      <td>3660</td>\n",
       "      <td>611</td>\n",
       "      <td>2512</td>\n",
       "      <td>762</td>\n",
       "      <td>4765</td>\n",
       "      <td>3786</td>\n",
       "    </tr>\n",
       "    <tr>\n",
       "      <th>2</th>\n",
       "      <td>1992.0</td>\n",
       "      <td>1</td>\n",
       "      <td>5.5</td>\n",
       "      <td>93.0</td>\n",
       "      <td>96.828211</td>\n",
       "      <td>0</td>\n",
       "      <td>20</td>\n",
       "      <td>37</td>\n",
       "      <td>71</td>\n",
       "      <td>33</td>\n",
       "      <td>110</td>\n",
       "      <td>2472</td>\n",
       "      <td>1621</td>\n",
       "      <td>4068</td>\n",
       "      <td>611</td>\n",
       "      <td>354</td>\n",
       "      <td>762</td>\n",
       "      <td>2582</td>\n",
       "      <td>1672</td>\n",
       "    </tr>\n",
       "    <tr>\n",
       "      <th>3</th>\n",
       "      <td>2004.0</td>\n",
       "      <td>1</td>\n",
       "      <td>5.3</td>\n",
       "      <td>13432.0</td>\n",
       "      <td>60.000000</td>\n",
       "      <td>6</td>\n",
       "      <td>4</td>\n",
       "      <td>62</td>\n",
       "      <td>71</td>\n",
       "      <td>16</td>\n",
       "      <td>37</td>\n",
       "      <td>3014</td>\n",
       "      <td>1499</td>\n",
       "      <td>4013</td>\n",
       "      <td>39</td>\n",
       "      <td>410</td>\n",
       "      <td>762</td>\n",
       "      <td>4877</td>\n",
       "      <td>288</td>\n",
       "    </tr>\n",
       "    <tr>\n",
       "      <th>4</th>\n",
       "      <td>1991.0</td>\n",
       "      <td>1</td>\n",
       "      <td>4.5</td>\n",
       "      <td>2177.0</td>\n",
       "      <td>96.000000</td>\n",
       "      <td>4</td>\n",
       "      <td>13</td>\n",
       "      <td>62</td>\n",
       "      <td>71</td>\n",
       "      <td>16</td>\n",
       "      <td>110</td>\n",
       "      <td>589</td>\n",
       "      <td>3310</td>\n",
       "      <td>1100</td>\n",
       "      <td>611</td>\n",
       "      <td>265</td>\n",
       "      <td>762</td>\n",
       "      <td>2868</td>\n",
       "      <td>405</td>\n",
       "    </tr>\n",
       "  </tbody>\n",
       "</table>\n",
       "</div>"
      ],
      "text/plain": [
       "     year  kind  rating     vote    runtime  genre1  genre2  country1  \\\n",
       "0  2003.0     2     7.7    474.0  50.000000       6       2        62   \n",
       "1  1994.0     7     8.1     18.0  83.000000       8      27        62   \n",
       "2  1992.0     1     5.5     93.0  96.828211       0      20        37   \n",
       "3  2004.0     1     5.3  13432.0  60.000000       6       4        62   \n",
       "4  1991.0     1     4.5   2177.0  96.000000       4      13        62   \n",
       "\n",
       "   country2  language1  language2  cast1  cast2  director1  director2  \\\n",
       "0        71         16        110    817   4942       3924        611   \n",
       "1        71         16        110   3599    381       3660        611   \n",
       "2        71         33        110   2472   1621       4068        611   \n",
       "3        71         16         37   3014   1499       4013         39   \n",
       "4        71         16        110    589   3310       1100        611   \n",
       "\n",
       "   composer1  composer2  writer1  writer2  \n",
       "0       2512        762     3299     2469  \n",
       "1       2512        762     4765     3786  \n",
       "2        354        762     2582     1672  \n",
       "3        410        762     4877      288  \n",
       "4        265        762     2868      405  "
      ]
     },
     "execution_count": 5,
     "metadata": {},
     "output_type": "execute_result"
    }
   ],
   "source": [
    "df.head()"
   ]
  },
  {
   "cell_type": "code",
   "execution_count": 6,
   "id": "d4588884",
   "metadata": {},
   "outputs": [],
   "source": [
    "target='rating'"
   ]
  },
  {
   "cell_type": "code",
   "execution_count": 28,
   "id": "10b7086a",
   "metadata": {},
   "outputs": [],
   "source": [
    "x=df.drop(columns=target)\n",
    "#x=df_enc.drop(index=[712],columns='survived')\n",
    "#x_check=titanic_enc.tail(1).drop(columns='survived')\n",
    "y=round(df[target]).astype(int)"
   ]
  },
  {
   "cell_type": "code",
   "execution_count": 29,
   "id": "d032a12c",
   "metadata": {},
   "outputs": [
    {
     "data": {
      "text/plain": [
       "0       8\n",
       "1       8\n",
       "2       6\n",
       "3       5\n",
       "4       4\n",
       "       ..\n",
       "8064    4\n",
       "8065    6\n",
       "8066    5\n",
       "8067    6\n",
       "8068    8\n",
       "Name: rating, Length: 8069, dtype: int32"
      ]
     },
     "execution_count": 29,
     "metadata": {},
     "output_type": "execute_result"
    }
   ],
   "source": [
    "y"
   ]
  },
  {
   "cell_type": "code",
   "execution_count": 12,
   "id": "571dd11e",
   "metadata": {},
   "outputs": [],
   "source": [
    "from sklearn.feature_selection import RFE\n",
    "from sklearn.ensemble import RandomForestClassifier"
   ]
  },
  {
   "cell_type": "code",
   "execution_count": 31,
   "id": "bb8f4f47",
   "metadata": {},
   "outputs": [
    {
     "name": "stdout",
     "output_type": "stream",
     "text": [
      "Fitting estimator with 18 features.\n",
      "Fitting estimator with 17 features.\n",
      "Fitting estimator with 16 features.\n",
      "Fitting estimator with 15 features.\n",
      "Fitting estimator with 14 features.\n",
      "Fitting estimator with 13 features.\n",
      "Fitting estimator with 12 features.\n",
      "Fitting estimator with 11 features.\n",
      "Fitting estimator with 10 features.\n",
      "Fitting estimator with 9 features.\n",
      "Fitting estimator with 8 features.\n",
      "Fitting estimator with 7 features.\n",
      "Fitting estimator with 6 features.\n"
     ]
    }
   ],
   "source": [
    "#METHOD 1:\n",
    "rfe_selector = RFE(estimator=RandomForestClassifier(),n_features_to_select = 5 , step = 1, verbose=1)\n",
    "m=rfe_selector.fit(x, y)"
   ]
  },
  {
   "cell_type": "code",
   "execution_count": 32,
   "id": "edde15c5",
   "metadata": {},
   "outputs": [
    {
     "name": "stdout",
     "output_type": "stream",
     "text": [
      "Num Features: 5\n",
      "Selected Features: [False False  True False False False False False False False  True  True\n",
      "  True False False False  True False]\n",
      "Feature Ranking: [ 3  9  1  2  6  7  8 11 10 12  1  1  1 14  4 13  1  5]\n"
     ]
    }
   ],
   "source": [
    "x.columns[m.get_support()]\n",
    "print(\"Num Features: %s\" % (m.n_features_))\n",
    "print(\"Selected Features: %s\" % (m.support_))\n",
    "print(\"Feature Ranking: %s\" % (m.ranking_))"
   ]
  },
  {
   "cell_type": "code",
   "execution_count": 33,
   "id": "2d8e070f",
   "metadata": {},
   "outputs": [
    {
     "data": {
      "text/plain": [
       "Index(['vote', 'cast1', 'cast2', 'director1', 'writer1'], dtype='object')"
      ]
     },
     "execution_count": 33,
     "metadata": {},
     "output_type": "execute_result"
    }
   ],
   "source": [
    "x.loc[:, m.support_].columns"
   ]
  },
  {
   "cell_type": "code",
   "execution_count": 36,
   "id": "8d4ca66b",
   "metadata": {},
   "outputs": [],
   "source": [
    "#METHOD 2:\n",
    "from sklearn.feature_selection import SelectFromModel\n",
    "SFM = SelectFromModel(estimator=RandomForestClassifier())\n",
    "s=SFM.fit(x, y)"
   ]
  },
  {
   "cell_type": "code",
   "execution_count": 38,
   "id": "f1acad65",
   "metadata": {},
   "outputs": [
    {
     "data": {
      "text/plain": [
       "10"
      ]
     },
     "execution_count": 38,
     "metadata": {},
     "output_type": "execute_result"
    }
   ],
   "source": [
    "n_features = s.transform(x).shape[1]\n",
    "n_features"
   ]
  },
  {
   "cell_type": "code",
   "execution_count": 40,
   "id": "c8f77a6f",
   "metadata": {},
   "outputs": [
    {
     "data": {
      "text/plain": [
       "Index(['year', 'vote', 'runtime', 'genre1', 'cast1', 'cast2', 'director1',\n",
       "       'composer1', 'writer1', 'writer2'],\n",
       "      dtype='object')"
      ]
     },
     "execution_count": 40,
     "metadata": {},
     "output_type": "execute_result"
    }
   ],
   "source": [
    "feature_idx = s.get_support()\n",
    "feature_name = x.columns[feature_idx]\n",
    "feature_name "
   ]
  },
  {
   "cell_type": "code",
   "execution_count": 44,
   "id": "9febf8a5",
   "metadata": {},
   "outputs": [],
   "source": [
    "#METHOD 3:\n",
    "from sklearn.feature_selection import RFECV"
   ]
  },
  {
   "cell_type": "code",
   "execution_count": 49,
   "id": "5e23a0b4",
   "metadata": {},
   "outputs": [],
   "source": [
    "rfecv = RFECV(\n",
    "    estimator=RandomForestClassifier(),\n",
    "    min_features_to_select=2,\n",
    "    step=5,\n",
    "    n_jobs=-1, #multiprocessing: -1: use all available processor\n",
    "    scoring=\"r2\",\n",
    "    cv=5,\n",
    "    verbose=1\n",
    ")"
   ]
  },
  {
   "cell_type": "code",
   "execution_count": 48,
   "id": "8d9fb93c",
   "metadata": {},
   "outputs": [
    {
     "name": "stderr",
     "output_type": "stream",
     "text": [
      "C:\\Users\\Michel\\anaconda3\\lib\\site-packages\\sklearn\\model_selection\\_split.py:666: UserWarning: The least populated class in y has only 1 members, which is less than n_splits=2.\n",
      "  warnings.warn((\"The least populated class in y has only %d\"\n"
     ]
    }
   ],
   "source": [
    "m= rfecv.fit(x, y)"
   ]
  },
  {
   "cell_type": "code",
   "execution_count": null,
   "id": "b9598b21",
   "metadata": {},
   "outputs": [],
   "source": [
    "METHOD 3:\n",
    "from sklearn.feature_selection import RFECV\n",
    "\n",
    "rfecv = RFECV(\n",
    "    estimator=RandomForestClassifier(),\n",
    "    min_features_to_select=2,\n",
    "    step=5,\n",
    "    n_jobs=-1, #uses all available processors\n",
    "    scoring=\"r2\",\n",
    "    cv=5,)\n",
    "m= rfecv.fit(x, y)\n",
    "\n",
    "X.columns[rfecv.support_]\n",
    "\n",
    "TRAIN_TEST_SPLIT:\n",
    "from sklearn.model_selection import train_test_split\n",
    "y = netflix['ranking']\n",
    "x = netflix[features] # features found thanks to feature selector\n",
    "\n",
    "X_train, X_test, y_train, y_test = train_test_split(\n",
    "    x, y, test_size=0.2, random_state=5)\n",
    "\n",
    "\n",
    "\n",
    "\n",
    "HYPERPARAMETER TUNING\n",
    "METHOD 1 GRID SEARCH :\n",
    "from sklearn.model_selection import GridSearchCV, RandomizedSearchCV\n",
    "grid_search = GridSearchCV(AdaBoostClassifier(random_state=0), #take a model like RFC responsible for searching\n",
    "                           {\n",
    "                              'n_estimators':np.arange(5,400,5)\n",
    "                            \n",
    "                            },cv=5, scoring=\"accuracy\",verbose=1,n_jobs=-1 #my goal is Accuracy , we want verbosity for more details\n",
    "                           ) #cv = crossvalidation, how many folds you want\n",
    "grid_search.fit(X_train,y_train)\n",
    "\n",
    "grid_search.best_params_\n",
    "grid_search.best_score_\n",
    "\n",
    "METHOD 1 RANDOM SEARCH:\n",
    "rand_search = RandomizedSearchCV(RandomForestClassifier(random_state=0),\n",
    "                           {\n",
    "                              'n_estimators':np.arange(5,400,5)\n",
    "                            \n",
    "                            },cv=5, scoring=\"accuracy\",verbose=1,n_jobs=-1\n",
    "                           )\n",
    "rand_search.fit(X_train,y_train)\n",
    "\n",
    "\n",
    "rand_search.best_params_\n",
    "rand_search.best_score_\n",
    "\n",
    "\n",
    "CHOICE OF MODEL : \n",
    "\n",
    "\n",
    "\n",
    "From sklearn.ensemble import AdaBoostClassifier\n",
    "\n",
    "clf= AdaBoostClassifier(n_estimators=100, random_state=0)\n",
    "\n",
    "\tn_estimator found thanks to hyperparameter tuning\n",
    "\n",
    "clf.fit(X,y)\n",
    "\n",
    "clf.predict(x_train)\n",
    "\n",
    "clf.score(X,y)\n"
   ]
  }
 ],
 "metadata": {
  "kernelspec": {
   "display_name": "Python 3",
   "language": "python",
   "name": "python3"
  },
  "language_info": {
   "codemirror_mode": {
    "name": "ipython",
    "version": 3
   },
   "file_extension": ".py",
   "mimetype": "text/x-python",
   "name": "python",
   "nbconvert_exporter": "python",
   "pygments_lexer": "ipython3",
   "version": "3.8.8"
  }
 },
 "nbformat": 4,
 "nbformat_minor": 5
}
