{
 "cells": [
  {
   "cell_type": "code",
   "execution_count": null,
   "id": "c500f711",
   "metadata": {},
   "outputs": [],
   "source": [
    "import numpy as np\n",
    "import matplotlib.pyplot as plt\n",
    "\n",
    "from sklearn.naive_bayes import BernoulliNB"
   ]
  },
  {
   "cell_type": "code",
   "execution_count": null,
   "id": "05fe95af",
   "metadata": {},
   "outputs": [],
   "source": [
    "#BernoulliNB is designed for binary/boolean features (discrete data)\n",
    "\n",
    "#probabilité d'une variable aléatoire discrète qui prend la valeur 1 avec la probabilité p \n",
    "# et la valeur  0 avec la probabilité 1 – p (q)."
   ]
  },
  {
   "cell_type": "code",
   "execution_count": null,
   "id": "8a8a557b",
   "metadata": {},
   "outputs": [],
   "source": [
    "from sklearn.naive_bayes import BernoulliNB\n",
    "clf = BernoulliNB()\n",
    "clf.fit(x, Y)\n",
    "y_pred = clf.predict(x_test)\n"
   ]
  },
  {
   "cell_type": "code",
   "execution_count": null,
   "id": "4b1a37ff",
   "metadata": {},
   "outputs": [],
   "source": [
    "### Print accuracy\n",
    "acc_clf = clf.score(x_test, y_test)\n",
    "print('The accuracy of the Random Forest Classifier is:', acc_clf * 100, '%')\n",
    "\n"
   ]
  },
  {
   "cell_type": "code",
   "execution_count": null,
   "id": "2b5ae59b",
   "metadata": {},
   "outputs": [],
   "source": [
    "#other method for accury, with accuracy_score + PRINT\n",
    "from sklearn.metrics import accuracy_score\n",
    "clf.fit(x_train, y_train)\n",
    "y_pred= clf.predict(x_test)\n",
    "acc_score = accuracy_score(y_test, y_pred)\n",
    "print(acc_score)"
   ]
  },
  {
   "cell_type": "code",
   "execution_count": null,
   "id": "d7e2353d",
   "metadata": {},
   "outputs": [],
   "source": [
    "\n",
    "# to see if it is overfit or underfit \n",
    "acc_clf = clf.score(x_train, y_train)\n",
    "acc_clf = clf.score(x_test, y_test)\n"
   ]
  },
  {
   "cell_type": "code",
   "execution_count": null,
   "id": "59e18650",
   "metadata": {},
   "outputs": [],
   "source": [
    "#print confusion matrix +PRINT\n",
    "from sklearn.metrics import confusion_matrix\n",
    "clf.fit(x_train, y_train)\n",
    "y_pred= clf.predict(x_test)\n",
    "conf_mat = confusion_matrix(y_test, y_pred) # we can add labels = ['cat1', 'cat2', 'cat3', 'cat4', 'cat5']\n",
    "\n",
    "\n",
    "print(conf_mat)"
   ]
  }
 ],
 "metadata": {
  "kernelspec": {
   "display_name": "Python 3 (ipykernel)",
   "language": "python",
   "name": "python3"
  },
  "language_info": {
   "codemirror_mode": {
    "name": "ipython",
    "version": 3
   },
   "file_extension": ".py",
   "mimetype": "text/x-python",
   "name": "python",
   "nbconvert_exporter": "python",
   "pygments_lexer": "ipython3",
   "version": "3.9.7"
  }
 },
 "nbformat": 4,
 "nbformat_minor": 5
}
